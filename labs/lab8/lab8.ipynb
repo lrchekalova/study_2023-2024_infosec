{
 "cells": [
  {
   "cell_type": "code",
   "execution_count": 1,
   "id": "51aaa114",
   "metadata": {},
   "outputs": [],
   "source": [
    "import string\n",
    "import random\n",
    "import sys"
   ]
  },
  {
   "cell_type": "code",
   "execution_count": 2,
   "id": "da891f7a",
   "metadata": {},
   "outputs": [],
   "source": [
    "def gen_key(size):\n",
    "    res = ''\n",
    "    for i in range(size):\n",
    "        res += random.choice(string.ascii_letters)\n",
    "    return res\n",
    "\n",
    "\n",
    "def encrypt(text, key):\n",
    "    res = ''\n",
    "    for (t, k) in zip(text, key):\n",
    "        res += chr(t^k)\n",
    "    return res"
   ]
  },
  {
   "cell_type": "code",
   "execution_count": 3,
   "id": "3f1f1b55",
   "metadata": {},
   "outputs": [
    {
     "name": "stdout",
     "output_type": "stream",
     "text": [
      "open text1: С Новым Годом, друзья! \n",
      "open text2: Счастливого рождества! \n",
      "key: JDswWyBzHBwppaFotzdkoT\n",
      "encrypted text1: ѫdѮщѥвѾZћѼуюьMfћдйѓЧРu \n",
      "encrypted text2: ѫЃужЕтѺшѶѱщPаџѰћслЦљџu\n",
      "decrypted text1: С Новым Годом, друзья! \n",
      "decrypted text2: Счастливого рождества!\n"
     ]
    }
   ],
   "source": [
    "message1 = 'С Новым Годом, друзья!'\n",
    "message2 = 'Счастливого рождества!'\n",
    "key = gen_key(len(message1))\n",
    "encr_m1 = encrypt([ord(i) for i in message1], [ord(i) for i in key])\n",
    "encr_m2 = encrypt([ord(i) for i in message2], [ord(i) for i in key])\n",
    "temp = encrypt([ord(i) for i in encr_m1], [ord(i) for i in encr_m2])\n",
    "open1 = encrypt([ord(i) for i in temp], [ord(i) for i in message2])\n",
    "open2 = encrypt([ord(i) for i in temp], [ord(i) for i in open1])\n",
    "\n",
    "print('open text1:', message1, '\\nopen text2:', message2, '\\nkey:', key)\n",
    "print('encrypted text1:', encr_m1, '\\nencrypted text2:', encr_m2)\n",
    "print('decrypted text1:', open1, '\\ndecrypted text2:', open2)"
   ]
  },
  {
   "cell_type": "code",
   "execution_count": null,
   "id": "d22c84bb",
   "metadata": {},
   "outputs": [],
   "source": []
  },
  {
   "cell_type": "code",
   "execution_count": null,
   "id": "9ac09711",
   "metadata": {},
   "outputs": [],
   "source": []
  }
 ],
 "metadata": {
  "kernelspec": {
   "display_name": "Python 3 (ipykernel)",
   "language": "python",
   "name": "python3"
  },
  "language_info": {
   "codemirror_mode": {
    "name": "ipython",
    "version": 3
   },
   "file_extension": ".py",
   "mimetype": "text/x-python",
   "name": "python",
   "nbconvert_exporter": "python",
   "pygments_lexer": "ipython3",
   "version": "3.11.4"
  }
 },
 "nbformat": 4,
 "nbformat_minor": 5
}
