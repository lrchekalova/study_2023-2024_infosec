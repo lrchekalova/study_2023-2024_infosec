{
 "cells": [
  {
   "cell_type": "code",
   "execution_count": 5,
   "id": "51aaa114",
   "metadata": {},
   "outputs": [],
   "source": [
    "import string\n",
    "import random\n",
    "import sys"
   ]
  },
  {
   "cell_type": "code",
   "execution_count": 15,
   "id": "da891f7a",
   "metadata": {},
   "outputs": [],
   "source": [
    "def gen_key(size):\n",
    "    res = ''\n",
    "    for i in range(size):\n",
    "        res += random.choice(string.ascii_letters)\n",
    "    return res\n",
    "\n",
    "def to_hex(text):\n",
    "    res = ''\n",
    "    for i in text:\n",
    "        res += hex(ord(i))[2:] + ' '\n",
    "    return res\n",
    "\n",
    "def encrypt(text, key):\n",
    "    res = ''\n",
    "    for (t, k) in zip(text, key):\n",
    "        res += chr(t^k)\n",
    "    return res"
   ]
  },
  {
   "cell_type": "code",
   "execution_count": 16,
   "id": "3f1f1b55",
   "metadata": {},
   "outputs": [
    {
     "name": "stdout",
     "output_type": "stream",
     "text": [
      "open text: С Новым Годом, друзья! \n",
      "open text in 16: 421 20 41d 43e 432 44b 43c 20 413 43e 434 43e 43c 2c 20 434 440 443 437 44c 44f 21  \n",
      "key: rHzIhmgLudlXvEgGJDfNyP \n",
      "key in 16: 72 48 7a 49 68 6d 67 4c 75 64 6c 58 76 45 67 47 4a 44 66 4e 79 50 \n",
      "encrypted text: ѓhѧѷњЦћlѦњјѦъiGѳЊЇёЂжq \n",
      "encrypted text in 16: 453 68 467 477 45a 426 45b 6c 466 45a 458 466 44a 69 47 473 40a 407 451 402 436 71  \n",
      "decrypted message: Ъ\u001d",
      "зДЌѶд\u0015здНПЁ\u001e",
      "\n",
      "ЅѢџХѶѐ  \n",
      "found key: yuPcVPoyQnEyKwMvhXttfQ\n"
     ]
    }
   ],
   "source": [
    "message = 'С Новым Годом, друзья!'\n",
    "message16 = to_hex(message)\n",
    "key = gen_key(len(message))\n",
    "k = to_hex(key)\n",
    "encr_m = encrypt([ord(i) for i in message], [ord(i) for i in key])\n",
    "encr_m16 = to_hex(encr_m)\n",
    "decr_m = encrypt([ord(i) for i in encr_m], [ord(i) for i in key])\n",
    "key_new = gen_key(len(message))\n",
    "decr_m = encrypt([ord(i) for i in encr_m], [ord(i) for i in key_new])\n",
    "\n",
    "print('open text:', message, '\\nopen text in 16:', message16, '\\nkey:', key, '\\nkey in 16:', k)\n",
    "print('encrypted text:', encr_m, '\\nencrypted text in 16:', encr_m16, '\\ndecrypted message:', decr_m, '\\nfound key:', key_new)"
   ]
  },
  {
   "cell_type": "code",
   "execution_count": null,
   "id": "d22c84bb",
   "metadata": {},
   "outputs": [],
   "source": []
  },
  {
   "cell_type": "code",
   "execution_count": null,
   "id": "9ac09711",
   "metadata": {},
   "outputs": [],
   "source": []
  }
 ],
 "metadata": {
  "kernelspec": {
   "display_name": "Python 3 (ipykernel)",
   "language": "python",
   "name": "python3"
  },
  "language_info": {
   "codemirror_mode": {
    "name": "ipython",
    "version": 3
   },
   "file_extension": ".py",
   "mimetype": "text/x-python",
   "name": "python",
   "nbconvert_exporter": "python",
   "pygments_lexer": "ipython3",
   "version": "3.11.4"
  }
 },
 "nbformat": 4,
 "nbformat_minor": 5
}
